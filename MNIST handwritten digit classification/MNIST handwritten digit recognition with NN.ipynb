{
 "cells": [
  {
   "cell_type": "markdown",
   "metadata": {
    "id": "0H_wzJfJcuyc"
   },
   "source": [
    "# Understading the workflow\n",
    "- 1. import dataset\n",
    "- 2. imgae preprocessing\n",
    "- 3. train-test split\n",
    "- 4. Neural Network training\n",
    "- 5. Prediction system modeling"
   ]
  },
  {
   "cell_type": "markdown",
   "metadata": {
    "id": "FC8e_L17dF9d"
   },
   "source": [
    "### Importing libraries and dataset\n"
   ]
  },
  {
   "cell_type": "code",
   "execution_count": 1,
   "metadata": {
    "id": "D1MY7hGucleB"
   },
   "outputs": [],
   "source": [
    "import numpy as np\n",
    "import pandas as pd\n",
    "import matplotlib.pyplot as plt\n",
    "import seaborn as sns\n",
    "import cv2\n",
    "from google.colab.patches import cv2_imshow\n",
    "from PIL import Image\n",
    "import tensorflow as tf\n",
    "tf.random.set_seed(3)\n",
    "from tensorflow import keras\n",
    "from keras.datasets import mnist\n",
    "from tensorflow.math import confusion_matrix"
   ]
  },
  {
   "cell_type": "markdown",
   "metadata": {
    "id": "xzP1i1QSeO6j"
   },
   "source": [
    "### Loding MNIST data from keras dataset\n"
   ]
  },
  {
   "cell_type": "code",
   "execution_count": 13,
   "metadata": {
    "id": "QsInnngLeLBo"
   },
   "outputs": [],
   "source": [
    "(X_train, Y_train), (X_test, Y_test) = mnist.load_data()"
   ]
  },
  {
   "cell_type": "code",
   "execution_count": 14,
   "metadata": {
    "colab": {
     "base_uri": "https://localhost:8080/"
    },
    "id": "Of9nJ_o0fAwd",
    "outputId": "54e70f2d-8a2f-4d54-a45f-a7b0e0b32cbd"
   },
   "outputs": [
    {
     "name": "stdout",
     "output_type": "stream",
     "text": [
      "(60000, 28, 28) (60000,) (10000, 28, 28) (10000,)\n"
     ]
    }
   ],
   "source": [
    "print(X_train.shape, Y_train.shape, X_test.shape, Y_test.shape)"
   ]
  },
  {
   "cell_type": "markdown",
   "metadata": {
    "id": "g36FYBgZf0Ks"
   },
   "source": [
    "### Basic info about data\n",
    "- 60000 images for training data and\n",
    "- 10000 images for testing data\n",
    "- dimensions 28*28\n",
    "- these are grayscale images  "
   ]
  },
  {
   "cell_type": "code",
   "execution_count": 15,
   "metadata": {
    "colab": {
     "base_uri": "https://localhost:8080/",
     "height": 447
    },
    "id": "zHKXEhYLfGLY",
    "outputId": "f5b96989-23bc-4a5a-c90e-e0737bb0ab13"
   },
   "outputs": [
    {
     "name": "stdout",
     "output_type": "stream",
     "text": [
      "0\n"
     ]
    },
    {
     "data": {
      "image/png": "[encoded data removed]",
      "text/plain": [
       "<Figure size 640x480 with 1 Axes>"
      ]
     },
     "metadata": {},
     "output_type": "display_data"
    }
   ],
   "source": [
    "# displaying the random image\n",
    "plt.imshow(X_train[34])\n",
    "# corresponding label\n",
    "print(Y_train[34])"
   ]
  },
  {
   "cell_type": "code",
   "execution_count": 17,
   "metadata": {
    "colab": {
     "base_uri": "https://localhost:8080/"
    },
    "id": "od1pj-dRfqb4",
    "outputId": "1b032302-67a8-402f-f845-4690a14a6d83"
   },
   "outputs": [
    {
     "name": "stdout",
     "output_type": "stream",
     "text": [
      "[0 1 2 3 4 5 6 7 8 9] [0 1 2 3 4 5 6 7 8 9]\n"
     ]
    }
   ],
   "source": [
    "# unique values in data\n",
    "print(np.unique(Y_train),np.unique(Y_test))"
   ]
  },
  {
   "cell_type": "code",
   "execution_count": 18,
   "metadata": {
    "id": "sV6G5yw2hIa3"
   },
   "outputs": [],
   "source": [
    "# Scaling the values\n",
    "X_train = X_train/255\n",
    "X_test = X_test/255"
   ]
  },
  {
   "cell_type": "markdown",
   "metadata": {
    "id": "A1VAMBPWiCiw"
   },
   "source": [
    "making neural network\n"
   ]
  },
  {
   "cell_type": "code",
   "execution_count": 20,
   "metadata": {
    "id": "_iNO5kV4hIdo"
   },
   "outputs": [],
   "source": [
    "model = keras.Sequential([\n",
    "                          keras.layers.Flatten(input_shape=(28,28)),\n",
    "                          keras.layers.Dense(50,activation='relu'),\n",
    "                          keras.layers.Dense(50,activation='relu'),\n",
    "                          keras.layers.Dense(10,activation='sigmoid'),\n",
    "\n",
    "])"
   ]
  },
  {
   "cell_type": "code",
   "execution_count": 21,
   "metadata": {
    "id": "89-LwhhojIOg"
   },
   "outputs": [],
   "source": [
    "# compiling the NN\n",
    "model.compile(optimizer='adam', loss = 'sparse_categorical_crossentropy',metrics=['accuracy'])\n",
    "\n"
   ]
  },
  {
   "cell_type": "code",
   "execution_count": 22,
   "metadata": {
    "colab": {
     "base_uri": "https://localhost:8080/"
    },
    "id": "Q8czEqW6jpH8",
    "outputId": "fff564fe-5dec-4c4f-8602-468a24409184"
   },
   "outputs": [
    {
     "name": "stdout",
     "output_type": "stream",
     "text": [
      "Epoch 1/10\n",
      "1875/1875 [==============================] - 6s 2ms/step - loss: 0.3030 - accuracy: 0.9123\n",
      "Epoch 2/10\n",
      "1875/1875 [==============================] - 4s 2ms/step - loss: 0.1424 - accuracy: 0.9576\n",
      "Epoch 3/10\n",
      "1875/1875 [==============================] - 4s 2ms/step - loss: 0.1023 - accuracy: 0.9686\n",
      "Epoch 4/10\n",
      "1875/1875 [==============================] - 4s 2ms/step - loss: 0.0838 - accuracy: 0.9742\n",
      "Epoch 5/10\n",
      "1875/1875 [==============================] - 4s 2ms/step - loss: 0.0665 - accuracy: 0.9791\n",
      "Epoch 6/10\n",
      "1875/1875 [==============================] - 4s 2ms/step - loss: 0.0579 - accuracy: 0.9818\n",
      "Epoch 7/10\n",
      "1875/1875 [==============================] - 5s 3ms/step - loss: 0.0499 - accuracy: 0.9839\n",
      "Epoch 8/10\n",
      "1875/1875 [==============================] - 4s 2ms/step - loss: 0.0430 - accuracy: 0.9859\n",
      "Epoch 9/10\n",
      "1875/1875 [==============================] - 4s 2ms/step - loss: 0.0387 - accuracy: 0.9870\n",
      "Epoch 10/10\n",
      "1875/1875 [==============================] - 5s 3ms/step - loss: 0.0329 - accuracy: 0.9889\n"
     ]
    },
    {
     "data": {
      "text/plain": [
       "<keras.src.callbacks.History at 0x7d08a35e3e80>"
      ]
     },
     "execution_count": 22,
     "metadata": {},
     "output_type": "execute_result"
    }
   ],
   "source": [
    "# model training\n",
    "model.fit(X_train, Y_train, epochs=10)"
   ]
  },
  {
   "cell_type": "code",
   "execution_count": 23,
   "metadata": {
    "colab": {
     "base_uri": "https://localhost:8080/"
    },
    "id": "5-nv2aLZjz5f",
    "outputId": "89525820-346d-41c9-ee13-679ff8f2d3ff"
   },
   "outputs": [
    {
     "name": "stdout",
     "output_type": "stream",
     "text": [
      "313/313 [==============================] - 2s 4ms/step - loss: 0.1101 - accuracy: 0.9718\n",
      "0.9718000292778015\n"
     ]
    }
   ],
   "source": [
    "# Accuracy on test data\n",
    "loss, accuracy = model.evaluate(X_test, Y_test)\n",
    "print(accuracy)\n"
   ]
  },
  {
   "cell_type": "code",
   "execution_count": 24,
   "metadata": {
    "colab": {
     "base_uri": "https://localhost:8080/"
    },
    "id": "ZXnfvsQGkeSC",
    "outputId": "ad9f5472-53bc-417f-fef5-5420f40e8447"
   },
   "outputs": [
    {
     "name": "stdout",
     "output_type": "stream",
     "text": [
      "313/313 [==============================] - 1s 3ms/step\n"
     ]
    }
   ],
   "source": [
    "y_pred = model.predict(X_test)"
   ]
  },
  {
   "cell_type": "code",
   "execution_count": 26,
   "metadata": {
    "colab": {
     "base_uri": "https://localhost:8080/"
    },
    "id": "-ii0BiiZk1RP",
    "outputId": "6e483710-a142-43f6-8311-d3d7b22983a4"
   },
   "outputs": [
    {
     "data": {
      "text/plain": [
       "(10000, 10)"
      ]
     },
     "execution_count": 26,
     "metadata": {},
     "output_type": "execute_result"
    }
   ],
   "source": [
    "y_pred.shape"
   ]
  },
  {
   "cell_type": "code",
   "execution_count": 30,
   "metadata": {
    "colab": {
     "base_uri": "https://localhost:8080/"
    },
    "id": "hhpMtZd3k24Z",
    "outputId": "a260978b-1619-4142-8aee-acf960a82edd"
   },
   "outputs": [
    {
     "name": "stdout",
     "output_type": "stream",
     "text": [
      "10000\n"
     ]
    }
   ],
   "source": [
    "# this 10 indicates the probability of being this number as 1,2,3,4,5,6,7,8,9,10\n",
    "# heighest probabilities taken for output\n",
    "\n",
    "# Now converting probability into class labels for all test data\n",
    "y_pred_labels = [np.argmax(i) for i in y_pred]\n",
    "print(len(y_pred_labels))"
   ]
  },
  {
   "cell_type": "code",
   "execution_count": 31,
   "metadata": {
    "colab": {
     "base_uri": "https://localhost:8080/"
    },
    "id": "7-zOO2zRl58Y",
    "outputId": "aea31f4c-718c-421c-c4f7-faf8c1a8a5aa"
   },
   "outputs": [
    {
     "data": {
      "text/plain": [
       "<tf.Tensor: shape=(10, 10), dtype=int32, numpy=\n",
       "array([[ 967,    0,    1,    3,    0,    2,    3,    2,    2,    0],\n",
       "       [   0, 1117,    7,    3,    0,    1,    2,    0,    5,    0],\n",
       "       [   5,    1, 1000,    8,    1,    0,    3,    4,   10,    0],\n",
       "       [   0,    0,    2,  986,    0,    8,    1,    4,    7,    2],\n",
       "       [   0,    0,    3,    2,  962,    2,    6,    2,    1,    4],\n",
       "       [   2,    0,    0,   13,    1,  868,    1,    1,    6,    0],\n",
       "       [   1,    1,    1,    1,    4,    7,  937,    0,    6,    0],\n",
       "       [   1,    6,   16,    3,    1,    1,    1,  985,   11,    3],\n",
       "       [   2,    1,    5,   12,    4,    6,    2,    2,  939,    1],\n",
       "       [   3,    2,    1,    7,   19,    3,    0,    8,    9,  957]],\n",
       "      dtype=int32)>"
      ]
     },
     "execution_count": 31,
     "metadata": {},
     "output_type": "execute_result"
    }
   ],
   "source": [
    "confusion_matrix(Y_test, y_pred_labels)"
   ]
  },
  {
   "cell_type": "code",
   "execution_count": 35,
   "metadata": {
    "colab": {
     "base_uri": "https://localhost:8080/",
     "height": 619
    },
    "id": "p20oCsfymrXH",
    "outputId": "6f22b6da-7d37-4f70-ebe4-2180b4d1b66d"
   },
   "outputs": [
    {
     "data": {
      "image/png": "[encoded data removed]",
      "text/plain": [
       "<Figure size 1500x700 with 2 Axes>"
      ]
     },
     "metadata": {},
     "output_type": "display_data"
    }
   ],
   "source": [
    "plt.figure(figsize=(15,7))\n",
    "sns.heatmap(confusion_matrix(Y_test, y_pred_labels),annot=True , fmt='d', cmap='Blues')\n",
    "plt.ylabel('true labels')\n",
    "plt.xlabel('predicted values')\n",
    "plt.show()"
   ]
  },
  {
   "cell_type": "markdown",
   "metadata": {
    "id": "594uUksnnnxA"
   },
   "source": [
    "### Building a Predictive system"
   ]
  },
  {
   "cell_type": "code",
   "execution_count": 47,
   "metadata": {
    "id": "Vi5MzpMvpLPX"
   },
   "outputs": [],
   "source": [
    "input_image_path = '/content/download.png'"
   ]
  },
  {
   "cell_type": "code",
   "execution_count": 48,
   "metadata": {
    "id": "GgEC2Fd7nngg"
   },
   "outputs": [],
   "source": [
    "input_image = cv2.imread(input_image_path)"
   ]
  },
  {
   "cell_type": "code",
   "execution_count": 51,
   "metadata": {
    "colab": {
     "base_uri": "https://localhost:8080/"
    },
    "id": "N-eaAatkqFa8",
    "outputId": "8b593c0e-2226-46c2-b6a5-13a54a7aa6d6"
   },
   "outputs": [
    {
     "data": {
      "text/plain": [
       "numpy.ndarray"
      ]
     },
     "execution_count": 51,
     "metadata": {},
     "output_type": "execute_result"
    }
   ],
   "source": [
    "type(input_image)"
   ]
  },
  {
   "cell_type": "code",
   "execution_count": 49,
   "metadata": {
    "colab": {
     "base_uri": "https://localhost:8080/"
    },
    "id": "LggcVFN7onnS",
    "outputId": "7be2ab7b-d7ba-4c5e-b598-fb1de5f25daf"
   },
   "outputs": [
    {
     "name": "stdout",
     "output_type": "stream",
     "text": [
      "[[[ 4  4  4]\n",
      "  [ 4  4  4]\n",
      "  [ 4  4  4]\n",
      "  ...\n",
      "  [ 4  4  4]\n",
      "  [ 0  0  0]\n",
      "  [25 25 25]]\n",
      "\n",
      " [[ 4  4  4]\n",
      "  [ 0  0  0]\n",
      "  [ 0  0  0]\n",
      "  ...\n",
      "  [ 0  0  0]\n",
      "  [ 0  0  0]\n",
      "  [25 25 25]]\n",
      "\n",
      " [[ 4  4  4]\n",
      "  [ 0  0  0]\n",
      "  [ 0  0  0]\n",
      "  ...\n",
      "  [ 0  0  0]\n",
      "  [ 0  0  0]\n",
      "  [25 25 25]]\n",
      "\n",
      " ...\n",
      "\n",
      " [[ 4  4  4]\n",
      "  [ 0  0  0]\n",
      "  [ 0  0  0]\n",
      "  ...\n",
      "  [ 0  0  0]\n",
      "  [ 0  0  0]\n",
      "  [25 25 25]]\n",
      "\n",
      " [[ 4  4  4]\n",
      "  [ 0  0  0]\n",
      "  [ 0  0  0]\n",
      "  ...\n",
      "  [ 0  0  0]\n",
      "  [ 0  0  0]\n",
      "  [25 25 25]]\n",
      "\n",
      " [[ 4  4  4]\n",
      "  [ 0  0  0]\n",
      "  [ 0  0  0]\n",
      "  ...\n",
      "  [ 0  0  0]\n",
      "  [ 0  0  0]\n",
      "  [25 25 25]]]\n"
     ]
    }
   ],
   "source": [
    "print(input_image)"
   ]
  },
  {
   "cell_type": "code",
   "execution_count": 52,
   "metadata": {
    "colab": {
     "base_uri": "https://localhost:8080/",
     "height": 241
    },
    "id": "9K2uweSLo0Vk",
    "outputId": "78888b95-a74b-4fee-e99e-c47b8fa8223e"
   },
   "outputs": [
    {
     "data": {
      "image/png": "[encoded data removed]",
      "text/plain": [
       "<PIL.Image.Image image mode=RGB size=225x224>"
      ]
     },
     "metadata": {},
     "output_type": "display_data"
    }
   ],
   "source": [
    "cv2_imshow(input_image)"
   ]
  },
  {
   "cell_type": "code",
   "execution_count": 53,
   "metadata": {
    "colab": {
     "base_uri": "https://localhost:8080/"
    },
    "id": "05kS70w6pHAF",
    "outputId": "36b623bc-ff87-4e18-db95-d84c82ead7dc"
   },
   "outputs": [
    {
     "data": {
      "text/plain": [
       "(224, 225, 3)"
      ]
     },
     "execution_count": 53,
     "metadata": {},
     "output_type": "execute_result"
    }
   ],
   "source": [
    "input_image.shape"
   ]
  },
  {
   "cell_type": "code",
   "execution_count": 54,
   "metadata": {
    "id": "OlFvftu0qe3S"
   },
   "outputs": [],
   "source": [
    "# need to convert it into our model input requirements\n",
    "# size = 28*28\n",
    "# gray scale\n"
   ]
  },
  {
   "cell_type": "code",
   "execution_count": 56,
   "metadata": {
    "id": "MhXoQPNqqoEc"
   },
   "outputs": [],
   "source": [
    "grayscale = cv2.cvtColor(input_image, cv2.COLOR_RGB2GRAY)"
   ]
  },
  {
   "cell_type": "code",
   "execution_count": 58,
   "metadata": {
    "colab": {
     "base_uri": "https://localhost:8080/"
    },
    "id": "NiM68aUsqzWW",
    "outputId": "05be2637-3a60-4495-ecb7-c3743e9743fc"
   },
   "outputs": [
    {
     "data": {
      "text/plain": [
       "(224, 225)"
      ]
     },
     "execution_count": 58,
     "metadata": {},
     "output_type": "execute_result"
    }
   ],
   "source": [
    "grayscale.shape"
   ]
  },
  {
   "cell_type": "code",
   "execution_count": 60,
   "metadata": {
    "id": "o9tt9lGhq3iF"
   },
   "outputs": [],
   "source": [
    "input_image_resize = cv2.resize(grayscale, (28,28))"
   ]
  },
  {
   "cell_type": "code",
   "execution_count": 61,
   "metadata": {
    "colab": {
     "base_uri": "https://localhost:8080/"
    },
    "id": "34Tms0V_rGnj",
    "outputId": "b65ef3af-1071-4058-a7eb-42239272f82a"
   },
   "outputs": [
    {
     "data": {
      "text/plain": [
       "(28, 28)"
      ]
     },
     "execution_count": 61,
     "metadata": {},
     "output_type": "execute_result"
    }
   ],
   "source": [
    "input_image_resize.shape"
   ]
  },
  {
   "cell_type": "code",
   "execution_count": 62,
   "metadata": {
    "id": "KUtfAU3OrhoH"
   },
   "outputs": [],
   "source": [
    "input_image_resize =input_image_resize /255"
   ]
  },
  {
   "cell_type": "code",
   "execution_count": 63,
   "metadata": {
    "id": "3Z1Crzwcrv4t"
   },
   "outputs": [],
   "source": [
    "image_reshaped = np.reshape(input_image_resize ,[1,28,28])"
   ]
  },
  {
   "cell_type": "code",
   "execution_count": 65,
   "metadata": {
    "colab": {
     "base_uri": "https://localhost:8080/"
    },
    "id": "tzsbvb_cr3Fp",
    "outputId": "7deaf6e2-ff9a-4b77-8b4a-ccbfb812263a"
   },
   "outputs": [
    {
     "name": "stdout",
     "output_type": "stream",
     "text": [
      "1/1 [==============================] - 0s 29ms/step\n",
      "[[1.2549193e-01 9.2247319e-05 4.6638578e-01 8.2913681e-04 5.8766711e-01\n",
      "  2.3244146e-01 9.9928391e-01 2.2766921e-04 1.7113514e-03 1.3472221e-04]]\n"
     ]
    }
   ],
   "source": [
    "input_prediction = model.predict(image_reshaped)\n",
    "print(input_prediction)"
   ]
  },
  {
   "cell_type": "code",
   "execution_count": 66,
   "metadata": {
    "id": "YH95l7c5sHzF"
   },
   "outputs": [],
   "source": [
    "input_predicted_label = np.argmax(input_prediction)"
   ]
  },
  {
   "cell_type": "code",
   "execution_count": 67,
   "metadata": {
    "colab": {
     "base_uri": "https://localhost:8080/"
    },
    "id": "bXRWoiZksdYZ",
    "outputId": "8bf527fe-cc7a-4eb6-b28e-593a72ebba12"
   },
   "outputs": [
    {
     "name": "stdout",
     "output_type": "stream",
     "text": [
      "6\n"
     ]
    }
   ],
   "source": [
    "print(input_predicted_label)"
   ]
  },
  {
   "cell_type": "code",
   "execution_count": 68,
   "metadata": {
    "colab": {
     "base_uri": "https://localhost:8080/",
     "height": 293
    },
    "id": "8vl9tohesg4Z",
    "outputId": "de4bc251-9309-4532-9c16-5dc064c6c120"
   },
   "outputs": [
    {
     "name": "stdout",
     "output_type": "stream",
     "text": [
      "path of image/content/download.png\n"
     ]
    },
    {
     "data": {
      "image/png": "[encoded data removed]",
      "text/plain": [
       "<PIL.Image.Image image mode=RGB size=225x224>"
      ]
     },
     "metadata": {},
     "output_type": "display_data"
    },
    {
     "name": "stdout",
     "output_type": "stream",
     "text": [
      "1/1 [==============================] - 0s 22ms/step\n",
      "the digit is recognised as -  6\n"
     ]
    }
   ],
   "source": [
    "# final predictive system\n",
    "input_image_path = input('path of image')\n",
    "input_image = cv2.imread(input_image_path)\n",
    "cv2_imshow(input_image)\n",
    "grayscale = cv2.cvtColor(input_image, cv2.COLOR_RGB2GRAY)\n",
    "input_image_resize = cv2.resize(grayscale, (28,28))\n",
    "input_image_resize =input_image_resize /255\n",
    "image_reshaped = np.reshape(input_image_resize ,[1,28,28])\n",
    "input_prediction = model.predict(image_reshaped)\n",
    "input_predicted_label = np.argmax(input_prediction)\n",
    "print(\"the digit is recognised as - \",input_predicted_label)\n"
   ]
  },
  {
   "cell_type": "code",
   "execution_count": null,
   "metadata": {
    "id": "SJpSZPL4tMpN"
   },
   "outputs": [],
   "source": []
  }
 ],
 "metadata": {
  "colab": {
   "provenance": []
  },
  "kernelspec": {
   "display_name": "Python 3 (ipykernel)",
   "language": "python",
   "name": "python3"
  },
  "language_info": {
   "codemirror_mode": {
    "name": "ipython",
    "version": 3
   },
   "file_extension": ".py",
   "mimetype": "text/x-python",
   "name": "python",
   "nbconvert_exporter": "python",
   "pygments_lexer": "ipython3",
   "version": "3.11.5"
  }
 },
 "nbformat": 4,
 "nbformat_minor": 1
}
